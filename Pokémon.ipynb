{
  "nbformat": 4,
  "nbformat_minor": 0,
  "metadata": {
    "colab": {
      "name": "Pokémon.ipynb",
      "provenance": [],
      "collapsed_sections": [],
      "authorship_tag": "ABX9TyMubygepSkGIlQtSfZCjb1f",
      "include_colab_link": true
    },
    "kernelspec": {
      "name": "python3",
      "display_name": "Python 3"
    },
    "language_info": {
      "name": "python"
    },
    "accelerator": "GPU"
  },
  "cells": [
    {
      "cell_type": "markdown",
      "metadata": {
        "id": "view-in-github",
        "colab_type": "text"
      },
      "source": [
        "<a href=\"https://colab.research.google.com/github/jyporse/YOLO/blob/main/Pok%C3%A9mon.ipynb\" target=\"_parent\"><img src=\"https://colab.research.google.com/assets/colab-badge.svg\" alt=\"Open In Colab\"/></a>"
      ]
    },
    {
      "cell_type": "code",
      "execution_count": 1,
      "metadata": {
        "id": "9TMKZSBmKrSw",
        "colab": {
          "base_uri": "https://localhost:8080/"
        },
        "outputId": "c6f533a0-c425-4596-aaf9-087ea2620762"
      },
      "outputs": [
        {
          "output_type": "stream",
          "name": "stdout",
          "text": [
            "Mounted at /content/drive\n"
          ]
        }
      ],
      "source": [
        "from google.colab import drive\n",
        "drive.mount('/content/drive')"
      ]
    },
    {
      "cell_type": "markdown",
      "source": [
        "### Goolgle Drive에 저장된 cuDNN 파일 가져오기"
      ],
      "metadata": {
        "id": "Ypt5k32BLcmF"
      }
    },
    {
      "cell_type": "code",
      "source": [
        "import os\n",
        "if not os.path.exists('usr/local/cuda/include/cudnn.h'):\n",
        "    !tar -xzvf drive/MyDrive/Kobot/YOLO/darknet/cuDNN/cudnn-11.1-linux-x64-v8.0.5.39.tgz -C /usr/local/\n",
        "    !chmod a+r /usr/local/cuda/include/cudnn.h\n",
        "\n",
        "!cat /usr/local/cuda/include/cudnn.h"
      ],
      "metadata": {
        "id": "mLmW-HwlLF8b",
        "colab": {
          "base_uri": "https://localhost:8080/"
        },
        "outputId": "b60ff570-e35d-42b7-9423-7663257025ec"
      },
      "execution_count": 2,
      "outputs": [
        {
          "output_type": "stream",
          "name": "stdout",
          "text": [
            "cuda/include/cudnn.h\n",
            "cuda/include/cudnn_adv_infer.h\n",
            "cuda/include/cudnn_adv_train.h\n",
            "cuda/include/cudnn_backend.h\n",
            "cuda/include/cudnn_cnn_infer.h\n",
            "cuda/include/cudnn_cnn_train.h\n",
            "cuda/include/cudnn_ops_infer.h\n",
            "cuda/include/cudnn_ops_train.h\n",
            "cuda/include/cudnn_version.h\n",
            "cuda/NVIDIA_SLA_cuDNN_Support.txt\n",
            "cuda/lib64/libcudnn.so\n",
            "cuda/lib64/libcudnn.so.8\n",
            "cuda/lib64/libcudnn.so.8.0.5\n",
            "cuda/lib64/libcudnn_adv_infer.so\n",
            "cuda/lib64/libcudnn_adv_infer.so.8\n",
            "cuda/lib64/libcudnn_adv_infer.so.8.0.5\n",
            "cuda/lib64/libcudnn_adv_train.so\n",
            "cuda/lib64/libcudnn_adv_train.so.8\n",
            "cuda/lib64/libcudnn_adv_train.so.8.0.5\n",
            "cuda/lib64/libcudnn_cnn_infer.so\n",
            "cuda/lib64/libcudnn_cnn_infer.so.8\n",
            "cuda/lib64/libcudnn_cnn_infer.so.8.0.5\n",
            "cuda/lib64/libcudnn_cnn_train.so\n",
            "cuda/lib64/libcudnn_cnn_train.so.8\n",
            "cuda/lib64/libcudnn_cnn_train.so.8.0.5\n",
            "cuda/lib64/libcudnn_ops_infer.so\n",
            "cuda/lib64/libcudnn_ops_infer.so.8\n",
            "cuda/lib64/libcudnn_ops_infer.so.8.0.5\n",
            "cuda/lib64/libcudnn_ops_train.so\n",
            "cuda/lib64/libcudnn_ops_train.so.8\n",
            "cuda/lib64/libcudnn_ops_train.so.8.0.5\n",
            "cuda/lib64/libcudnn_static.a\n",
            "cuda/lib64/libcudnn_static.a\n",
            "/*\n",
            " * Copyright 1993-2020 NVIDIA Corporation.  All rights reserved.\n",
            " *\n",
            " * NOTICE TO LICENSEE:\n",
            " *\n",
            " * This source code and/or documentation (\"Licensed Deliverables\") are\n",
            " * subject to NVIDIA intellectual property rights under U.S. and\n",
            " * international Copyright laws.\n",
            " *\n",
            " * These Licensed Deliverables contained herein is PROPRIETARY and\n",
            " * CONFIDENTIAL to NVIDIA and is being provided under the terms and\n",
            " * conditions of a form of NVIDIA software license agreement by and\n",
            " * between NVIDIA and Licensee (\"License Agreement\") or electronically\n",
            " * accepted by Licensee.  Notwithstanding any terms or conditions to\n",
            " * the contrary in the License Agreement, reproduction or disclosure\n",
            " * of the Licensed Deliverables to any third party without the express\n",
            " * written consent of NVIDIA is prohibited.\n",
            " *\n",
            " * NOTWITHSTANDING ANY TERMS OR CONDITIONS TO THE CONTRARY IN THE\n",
            " * LICENSE AGREEMENT, NVIDIA MAKES NO REPRESENTATION ABOUT THE\n",
            " * SUITABILITY OF THESE LICENSED DELIVERABLES FOR ANY PURPOSE.  IT IS\n",
            " * PROVIDED \"AS IS\" WITHOUT EXPRESS OR IMPLIED WARRANTY OF ANY KIND.\n",
            " * NVIDIA DISCLAIMS ALL WARRANTIES WITH REGARD TO THESE LICENSED\n",
            " * DELIVERABLES, INCLUDING ALL IMPLIED WARRANTIES OF MERCHANTABILITY,\n",
            " * NONINFRINGEMENT, AND FITNESS FOR A PARTICULAR PURPOSE.\n",
            " * NOTWITHSTANDING ANY TERMS OR CONDITIONS TO THE CONTRARY IN THE\n",
            " * LICENSE AGREEMENT, IN NO EVENT SHALL NVIDIA BE LIABLE FOR ANY\n",
            " * SPECIAL, INDIRECT, INCIDENTAL, OR CONSEQUENTIAL DAMAGES, OR ANY\n",
            " * DAMAGES WHATSOEVER RESULTING FROM LOSS OF USE, DATA OR PROFITS,\n",
            " * WHETHER IN AN ACTION OF CONTRACT, NEGLIGENCE OR OTHER TORTIOUS\n",
            " * ACTION, ARISING OUT OF OR IN CONNECTION WITH THE USE OR PERFORMANCE\n",
            " * OF THESE LICENSED DELIVERABLES.\n",
            " *\n",
            " * U.S. Government End Users.  These Licensed Deliverables are a\n",
            " * \"commercial item\" as that term is defined at 48 C.F.R. 2.101 (OCT\n",
            " * 1995), consisting of \"commercial computer software\" and \"commercial\n",
            " * computer software documentation\" as such terms are used in 48\n",
            " * C.F.R. 12.212 (SEPT 1995) and is provided to the U.S. Government\n",
            " * only as a commercial end item.  Consistent with 48 C.F.R.12.212 and\n",
            " * 48 C.F.R. 227.7202-1 through 227.7202-4 (JUNE 1995), all\n",
            " * U.S. Government End Users acquire the Licensed Deliverables with\n",
            " * only those rights set forth herein.\n",
            " *\n",
            " * Any use of the Licensed Deliverables in individual and commercial\n",
            " * software must include, in the user documentation and internal\n",
            " * comments to the code, the above Disclaimer and U.S. Government End\n",
            " * Users Notice.\n",
            " */\n",
            "\n",
            "/*   cudnn : Neural Networks Library\n",
            "\n",
            "*/\n",
            "\n",
            "#if !defined(CUDNN_H_)\n",
            "#define CUDNN_H_\n",
            "\n",
            "#include <cuda_runtime.h>\n",
            "#include <stdint.h>\n",
            "\n",
            "#include \"cudnn_version.h\"\n",
            "#include \"cudnn_ops_infer.h\"\n",
            "#include \"cudnn_ops_train.h\"\n",
            "#include \"cudnn_adv_infer.h\"\n",
            "#include \"cudnn_adv_train.h\"\n",
            "#include \"cudnn_cnn_infer.h\"\n",
            "#include \"cudnn_cnn_train.h\"\n",
            "\n",
            "#include \"cudnn_backend.h\"\n",
            "\n",
            "#if defined(__cplusplus)\n",
            "extern \"C\" {\n",
            "#endif\n",
            "\n",
            "#if defined(__cplusplus)\n",
            "}\n",
            "#endif\n",
            "\n",
            "#endif /* CUDNN_H_ */\n"
          ]
        }
      ]
    },
    {
      "cell_type": "markdown",
      "source": [
        "### Google Drive에 저장된 Darknet, Weights, cfg, data, custom , backup 파일 로컬로 가져오기\n"
      ],
      "metadata": {
        "id": "LLK4LRkWLkDt"
      }
    },
    {
      "cell_type": "code",
      "source": [
        "import os\n",
        "if not os.path.exists('darknet'):\n",
        "    os.makedirs('darknet')\n",
        "%cd darknet\n",
        "%ls\n",
        "!ls -la '/content/drive/MyDrive/Kobot/YOLO/darknet/bin/darknet'\n",
        "!cp -r /content/drive/MyDrive/Kobot/YOLO/darknet/bin/darknet ./darknet\n",
        "!chmod +x ./darknet\n",
        "#YOLO data 가져오기\n",
        "!cp -r /content/drive/MyDrive/Kobot/YOLO/darknet/weights .\n",
        "!cp -r /content/drive/MyDrive/Kobot/YOLO/darknet/cfg .\n",
        "!cp -ar /content/drive/MyDrive/Kobot/YOLO/darknet/data .\n",
        "!cp -r /content/drive/MyDrive/Kobot/darknet/Images/ .\n",
        "# Custom data가 있는 폴더 복사\n",
        "#!cp -r /content/Gdrive/MyDrive/Kobot/darknet/backup .\n",
        "%ls"
      ],
      "metadata": {
        "colab": {
          "base_uri": "https://localhost:8080/"
        },
        "id": "HVrWQclpLixV",
        "outputId": "aaeb88c5-add5-4639-ea58-4c5c53f00a79"
      },
      "execution_count": 4,
      "outputs": [
        {
          "output_type": "stream",
          "name": "stdout",
          "text": [
            "/content/darknet\n",
            "-rw------- 1 root root 6845664 Jan 27 09:05 /content/drive/MyDrive/Kobot/YOLO/darknet/bin/darknet\n",
            "\u001b[0m\u001b[01;34mcfg\u001b[0m/  \u001b[01;32mdarknet\u001b[0m*  \u001b[01;34mdata\u001b[0m/  \u001b[01;34mImages\u001b[0m/  \u001b[01;34mweights\u001b[0m/\n"
          ]
        }
      ]
    },
    {
      "cell_type": "markdown",
      "source": [
        "### 이미지를 업로드, 다운로드 또는 보여주기 함수"
      ],
      "metadata": {
        "id": "ODIh0uypMBze"
      }
    },
    {
      "cell_type": "code",
      "source": [
        "#download files\n",
        "\n",
        "def imShow(path):\n",
        "    import cv2\n",
        "    import matplotlib.pyplot as plt\n",
        "    %matplotlib inline\n",
        "\n",
        "    img = cv2.imread(path)\n",
        "    height , width = img.shape[:2]\n",
        "    resized_img = cv2.resize(img, (3*width, 3*height),interpolation = cv2.INTER_CUBIC)\n",
        "\n",
        "    fig = plt.gcf()\n",
        "    fig.set_size_inches(18,10)\n",
        "    plt.axis(\"off\")\n",
        "    #plt.rcParams['figure.figsize'] = [10,5]\n",
        "    plt.imshow(cv2.cvtColor(resized_img, cv2.COLOR_BGR2RGB))\n",
        "    plt.show()\n",
        "\n",
        "def upload():\n",
        "    from google.colab import files\n",
        "    uploaded = files.upload()\n",
        "    for name, data in uploaded.items():\n",
        "        with open(name, \"wb\") as f:\n",
        "            f.write(data)\n",
        "            print(\"saved file\", name)\n",
        "def download(path):\n",
        "    from google.colab import files\n",
        "    files.download(path)"
      ],
      "metadata": {
        "id": "oWGVC93NL_QZ"
      },
      "execution_count": 5,
      "outputs": []
    },
    {
      "cell_type": "markdown",
      "source": [
        "### 라벨링한 데이터들의 cfg , test, train, names 파일을 하나하나 입력하는것은 너무 힘든일이다 따라서 라벨링한 이미지와 데이터를 변환해주는 코드"
      ],
      "metadata": {
        "id": "LmxUIZK2OA5p"
      }
    },
    {
      "cell_type": "code",
      "source": [
        "%cd /content/darknet"
      ],
      "metadata": {
        "colab": {
          "base_uri": "https://localhost:8080/"
        },
        "id": "U6atglMuU_ia",
        "outputId": "d3372350-3090-4ffb-c34c-96e08dfa6369"
      },
      "execution_count": 8,
      "outputs": [
        {
          "output_type": "stream",
          "name": "stdout",
          "text": [
            "/content/darknet\n"
          ]
        }
      ]
    },
    {
      "cell_type": "code",
      "source": [
        "%ls"
      ],
      "metadata": {
        "colab": {
          "base_uri": "https://localhost:8080/"
        },
        "id": "DX_mA1p-VMny",
        "outputId": "c9ccd6ad-0e0c-45fa-d907-ad9e938a3937"
      },
      "execution_count": 9,
      "outputs": [
        {
          "output_type": "stream",
          "name": "stdout",
          "text": [
            "\u001b[0m\u001b[01;34mbackup\u001b[0m/  \u001b[01;34mcfg\u001b[0m/  \u001b[01;32mdarknet\u001b[0m*  \u001b[01;34mdata\u001b[0m/  \u001b[01;34mImages\u001b[0m/  \u001b[01;34mweights\u001b[0m/\n"
          ]
        }
      ]
    },
    {
      "cell_type": "code",
      "source": [
        "import os\n",
        "\n",
        "current_path = os.path.abspath(os.curdir)\n",
        "#print(current_path) 현재 경로 확인 \n",
        "COLAB_DARKNET_PATH = '/content/drive/MyDrive/Kobot/darknet'\n",
        "# Darknet 경로\n",
        "\n",
        "YOLO_COLAB_IMAGE_PATH = current_path + '/Images/'\n",
        "YOLO_COLAB_FORMAT_PATH = current_path + '/Images/'\n",
        "# Darknet 학습할 이미지가 있는 경로\n",
        "\n",
        "class_count = 0 # 클래스 개수\n",
        "test_percentage  = 0.2 #test 비율\n",
        "paths = []\n",
        "\n",
        "with open(YOLO_COLAB_FORMAT_PATH + '/' + 'classes.names', 'w') as names, \\\n",
        "     open(YOLO_COLAB_FORMAT_PATH + '/' + 'classes.txt', 'r') as txt:\n",
        "     for line in txt:\n",
        "         names.write(line)\n",
        "         #print(line)\n",
        "         class_count += 1\n",
        "     print(\"[classes.names] is created\")\n",
        " # 로컬 데이터에서 라벨링 된 이미지들의 calsses.txt를 읽어 확장명 names로 바꿔주고 class 개수를 추가해주는 함수\n",
        "\n",
        "with open(YOLO_COLAB_FORMAT_PATH + '/' + 'custom_data.data', 'w') as data:\n",
        "    data.write('classes = ' + str(class_count) + '\\n')\n",
        "    data.write('train = ' + YOLO_COLAB_IMAGE_PATH  + 'train.txt' + '\\n')\n",
        "    data.write('test = ' + YOLO_COLAB_IMAGE_PATH  + 'test.txt' + '\\n')\n",
        "    data.write('names = ' + YOLO_COLAB_IMAGE_PATH + 'classes.names' + '\\n')\n",
        "    data.write('backup = backup')\n",
        "    print(\"[custom_data.data] is created\")\n",
        "# 로컬 데이터에 custom_data.data 포멧의 입력정보를 입력하는 코드\n",
        "\n",
        "os.chdir(YOLO_COLAB_IMAGE_PATH)\n",
        "for current_dir, dirs, files in os.walk('.'):\n",
        "    for f in files:\n",
        "        if (f.endswith('.jpg') or f.endswith('.jpeg') or f.endswith('.png') ):\n",
        "            image_path = current_path + '/Images/' + f\n",
        "            paths.append(image_path + '\\n')\n",
        "\n",
        "## 로컬 데이터에 저장된  images 폴더를 순회하면서 확장자가 jpg, jpeg, png 라면 경롤\n",
        "\n",
        "paths_test = paths[:int(len(paths) * test_percentage)]\n",
        "\n",
        "paths = paths[int(len(paths) * test_percentage) :]\n",
        "\n",
        "with open(YOLO_COLAB_FORMAT_PATH + '/' + 'train.txt', 'w') as train_txt:\n",
        "    for path in paths :\n",
        "        train_txt.write(path)\n",
        "    print(\"[train_txt] is created\")\n",
        "\n",
        "with open(YOLO_COLAB_FORMAT_PATH + '/' + 'test.txt', 'w') as test_txt:\n",
        "    for path in paths :\n",
        "        test_txt.write(path)\n",
        "    print(\"[test_txt] is created\")    \n",
        "    \n"
      ],
      "metadata": {
        "colab": {
          "base_uri": "https://localhost:8080/"
        },
        "id": "7KFZnn6pOG-6",
        "outputId": "9c9f6aae-e69d-4052-c99c-5b6a5b9f8c57"
      },
      "execution_count": 10,
      "outputs": [
        {
          "output_type": "stream",
          "name": "stdout",
          "text": [
            "[classes.names] is created\n",
            "[custom_data.data] is created\n",
            "[train_txt] is created\n",
            "[test_txt] is created\n"
          ]
        }
      ]
    },
    {
      "cell_type": "code",
      "source": [
        "%cd /content/darknet"
      ],
      "metadata": {
        "colab": {
          "base_uri": "https://localhost:8080/"
        },
        "id": "0ao0N0iyaHvZ",
        "outputId": "f08f6fd6-0651-4e91-cc6a-66a47254f2a8"
      },
      "execution_count": 11,
      "outputs": [
        {
          "output_type": "stream",
          "name": "stdout",
          "text": [
            "/content/darknet\n"
          ]
        }
      ]
    },
    {
      "cell_type": "markdown",
      "source": [
        "### XML파일을 YOLO format 으로 변환해주는 코드도 있지만 여기서는 다루지 않음"
      ],
      "metadata": {
        "id": "ZRCgCWkBXdBt"
      }
    },
    {
      "cell_type": "markdown",
      "source": [
        "### 학습 시작 \n",
        "\n",
        "학습시간이 엄청 오래걸림\n",
        "darknet53.conv.74 파일은 초기 학습 데이터\n",
        "custom.data.data 의 경로는 구글 드라이브 경로여야 한다(아니여도 상관없음)."
      ],
      "metadata": {
        "id": "hmuQLhA0MN8B"
      }
    },
    {
      "cell_type": "code",
      "source": [
        "!./darknet detector train Images/custom_data.data Images/custom-train-yolo.cfg weights/darknet53.conv.74 -dont_show "
      ],
      "metadata": {
        "id": "P3DTPGA0MGxL"
      },
      "execution_count": null,
      "outputs": []
    },
    {
      "cell_type": "code",
      "source": [
        "if os.path.exists('./backup'):\n",
        "    !cp -r ./backup \"/content/drive/MyDrive/Kobot/darknet\"\n",
        "\n",
        "if not os.path.exists('./backup'):\n",
        "    os.makedirs('./backup')\n",
        "    !cp -r \"/content/drive/MyDrive/Kobot/darknet/backup/custom-train-yolo_last _700.weights\" ./backup"
      ],
      "metadata": {
        "id": "IBBLVp9EpZxl"
      },
      "execution_count": 7,
      "outputs": []
    },
    {
      "cell_type": "markdown",
      "source": [
        "### 100단위로 저장된다 왜 ?\n",
        "\n",
        "\n"
      ],
      "metadata": {
        "id": "aHiQz7BrkU3D"
      }
    },
    {
      "cell_type": "code",
      "source": [
        "!./darknet detector map Images/custom_data.data Images/custom-train-yolo.cfg backup/custom-train-yolo_last _700.weights"
      ],
      "metadata": {
        "colab": {
          "base_uri": "https://localhost:8080/"
        },
        "id": "WFbDHkOTMBA0",
        "outputId": "5bcc1df0-893a-4a4e-a822-51f53921ea94"
      },
      "execution_count": 12,
      "outputs": [
        {
          "output_type": "stream",
          "name": "stdout",
          "text": [
            "CUDA status Error: file: ./src/dark_cuda.c : () : line: 38 : build time: Jan 27 2022 - 09:04:25 \n",
            "\n",
            " CUDA Error: no CUDA-capable device is detected\n",
            "Darknet error location: ./src/dark_cuda.c, check_error, line #69\n",
            "CUDA Error: no CUDA-capable device is detected: Bad file descriptor\n"
          ]
        }
      ]
    },
    {
      "cell_type": "code",
      "source": [
        ""
      ],
      "metadata": {
        "id": "O6eRU4JqMASr"
      },
      "execution_count": null,
      "outputs": []
    }
  ]
}