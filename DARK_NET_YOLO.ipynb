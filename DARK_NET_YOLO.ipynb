{
  "nbformat": 4,
  "nbformat_minor": 0,
  "metadata": {
    "colab": {
      "name": "DARK_NET_YOLO",
      "private_outputs": true,
      "provenance": [],
      "collapsed_sections": [],
      "authorship_tag": "ABX9TyMwaHo7MSGuzZYx3STpr5wD",
      "include_colab_link": true
    },
    "kernelspec": {
      "name": "python3",
      "display_name": "Python 3"
    },
    "language_info": {
      "name": "python"
    },
    "accelerator": "GPU"
  },
  "cells": [
    {
      "cell_type": "markdown",
      "metadata": {
        "id": "view-in-github",
        "colab_type": "text"
      },
      "source": [
        "<a href=\"https://colab.research.google.com/github/jyporse/YOLO/blob/main/DARK_NET_YOLO.ipynb\" target=\"_parent\"><img src=\"https://colab.research.google.com/assets/colab-badge.svg\" alt=\"Open In Colab\"/></a>"
      ]
    },
    {
      "cell_type": "markdown",
      "source": [
        "## COLAB환경에서 DARKNET 실습\n",
        "### YOLO_Project를 위해서는 GPU 필수\n",
        "#### YOLO : You Only Look Once \n",
        "이번 실습에서는 YOLO를 자신이 원하는 조건에 맞게  Custom\n",
        "\n",
        "# Colab 사용 이유\n",
        "* Darknet 사용해야 하는데 설치조건이 까다로운데 COLAB을 사용하면 공통적인 환경에서 실습가능 (예전에는 Linux만 지원을 했으나 요즘에는 Mac,Windows에도 지원해줌)\n",
        "* GPU연산을 통해서도 상당한 시간이 걸리는데 이걸 CPU연산을 하면 상당히 오랜시간이 걸림\n",
        "\n",
        "# Colab\n",
        "* 12시간마다 정보들이 휘발(무료버전)\n",
        "    * 구글드라이브로 정보들을 저장해야함\n",
        "    * Git을 이용 \n",
        "* GPU 연산 가능\n",
        "* Linux 환경\n",
        "* Data 시각화가능\n"
      ],
      "metadata": {
        "id": "-VJNXlqcl3Yr"
      }
    },
    {
      "cell_type": "code",
      "source": [
        ""
      ],
      "metadata": {
        "id": "3JjomRZVmX4m"
      },
      "execution_count": null,
      "outputs": []
    }
  ]
}