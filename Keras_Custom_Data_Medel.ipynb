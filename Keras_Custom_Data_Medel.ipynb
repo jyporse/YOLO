{
  "nbformat": 4,
  "nbformat_minor": 0,
  "metadata": {
    "colab": {
      "name": "Keras Custom Data Medel.ipynb",
      "private_outputs": true,
      "provenance": [],
      "collapsed_sections": [],
      "authorship_tag": "ABX9TyMRTlSB7moaxB8hWDvWCt/g",
      "include_colab_link": true
    },
    "kernelspec": {
      "name": "python3",
      "display_name": "Python 3"
    },
    "language_info": {
      "name": "python"
    }
  },
  "cells": [
    {
      "cell_type": "markdown",
      "metadata": {
        "id": "view-in-github",
        "colab_type": "text"
      },
      "source": [
        "<a href=\"https://colab.research.google.com/github/jyporse/YOLO/blob/main/Keras_Custom_Data_Medel.ipynb\" target=\"_parent\"><img src=\"https://colab.research.google.com/assets/colab-badge.svg\" alt=\"Open In Colab\"/></a>"
      ]
    },
    {
      "cell_type": "code",
      "execution_count": null,
      "metadata": {
        "id": "fj6zSzq1Wjel"
      },
      "outputs": [],
      "source": [
        "from google.colab import drive\n",
        "drive.mount ('/content/Gdrive')"
      ]
    },
    {
      "cell_type": "markdown",
      "source": [
        ""
      ],
      "metadata": {
        "id": "AniMlys3fBcx"
      }
    },
    {
      "cell_type": "code",
      "source": [
        "import cv2\n",
        "import numpy as np\n",
        "import math\n",
        "import os\n",
        "import tensorflow as tf\n",
        "from tensorflow import keras\n",
        "import matplotlib.pyplot as plt\n",
        "%matplotlib inline\n",
        "import time"
      ],
      "metadata": {
        "id": "TGtTT7hAYBIg"
      },
      "execution_count": null,
      "outputs": []
    },
    {
      "cell_type": "code",
      "source": [
        "batch_size = 128\n",
        "num_classes = 0\n",
        "epochs = 100\n",
        "CW = 32\n",
        "CH = 32\n",
        "CD = 3\n",
        "model_name = 'fruit_custom.h5'\n",
        "tflite_model_name = 'fruit_custom.tflite'\n",
        "COLAB_PATH = '/content/Gdrive/MyDrive/Kobot/YOLO/darknet'\n",
        "YOLO_IMAGE_PATH =COLAB_PATH + '/custom/'\n",
        "YOLO_FORMAT_PATH =COLAB_PATH+  '/custom/'\n",
        "classes = []\n",
        "\n",
        "train_imgs= []\n",
        "train_labels = []\n",
        "test_imgs = []\n",
        "test_labels = []\n",
        "\n",
        "sample_test_img = 'sample.test.jpg'\n",
        "sample_test_label = 0"
      ],
      "metadata": {
        "id": "CCe4NdUfbPb1"
      },
      "execution_count": null,
      "outputs": []
    },
    {
      "cell_type": "code",
      "source": [
        "def show_sample(img, labels, sample_count = 25):\n",
        "    grid_cnt = math.ceil(math.ceil(math.sqrt(sample_count)))\n",
        "    grid_cnt = min(grid_cnt, len(img,), len(labels))\n",
        "\n",
        "    plt.figure(figsize=(2*grid_cnt, 2*grid_cnt))\n",
        "    for i in range(sample_count):\n",
        "        plt.subplot(grid_cnt, grid_cnt, i+1)\n",
        "        plt.xticks([])\n",
        "        plt.yticks([])\n",
        "        plt.grid(False)\n",
        "        image = cv2.cvtColor(img[i], cv2.COLOR_BGR2RGB)\n",
        "        plt.imshow(image, cmap=plt.cm.gray)\n",
        "        plt.xlabel(labels[i])\n",
        "    plt.show()\n",
        "\n",
        "def download(path):\n",
        "    try:\n",
        "        from google.colab import files\n",
        "        files.download(path)\n",
        "    except ImportError:\n",
        "        import os\n",
        "        print(\"Eorror Download:\", os.path.join(os.getcwd(),path))\n",
        "\n",
        "\n",
        "def getROI(size, box):\n",
        "    width_ratio = size[1]\n",
        "    height_ratio = size[0]\n",
        "    x = float(box[1]) * width_ratio\n",
        "    y = float(box[2]) * height_ratio\n",
        "    w = float(box[3]) * width_ratio   \n",
        "    h = float(box[4]) * height_ratio\n",
        "\n",
        "    half_width = w/2.0\n",
        "    half_height = h/2.0\n",
        "    startX = int(x-half_width)\n",
        "    startY = int(y-half_height)\n",
        "    endX = int(x+half_width)\n",
        "    endY = int(y+half_height)\n",
        "    return (startY, endY, startX, endX)\n",
        "\n",
        "def imShow(path):\n",
        "    fig = plt.gcf()\n",
        "    plt.axis(\"off\")\n",
        "    plt.imshow(cv2.cvtColor(path, cv2.COLOR_BGR2RGB))\n",
        "    plt.show()\n"
      ],
      "metadata": {
        "id": "O4DXv6LscmwJ"
      },
      "execution_count": null,
      "outputs": []
    },
    {
      "cell_type": "code",
      "source": [
        "with open(YOLO_FORMAT_PATH + 'classes.txt' , 'r') as txt:\n",
        "    for line in txt:\n",
        "        name = line.replace(\"\\n\", \"\")\n",
        "        classes.append(name)\n",
        "        num_classes +=1\n",
        "    print(classes, num_classes)"
      ],
      "metadata": {
        "id": "BL1VYs0ueYek"
      },
      "execution_count": null,
      "outputs": []
    },
    {
      "cell_type": "code",
      "source": [
        "if not os.path.exists('darknet'):\n",
        "    os.makedirs('darknet')\n",
        "%cd darknet\n",
        "!cp -r /content/Gdrive/MyDrive/Kobot/YOLO/darknet/bin/darknet ./darknet\n",
        "!chmod +x ./darknet\n",
        "!cp -r /content/Gdrive/MyDrive/Kobot/YOLO/darknet/custom ."
      ],
      "metadata": {
        "id": "P2sN4Fh_hTkz"
      },
      "execution_count": null,
      "outputs": []
    },
    {
      "cell_type": "markdown",
      "source": [
        "## train"
      ],
      "metadata": {
        "id": "6urN3OHdk0lq"
      }
    },
    {
      "cell_type": "code",
      "source": [
        "image_cnt = 0\n",
        "with open(YOLO_FORMAT_PATH + 'train.txt' , 'r') as txt:\n",
        "    for line in txt:\n",
        "        \n",
        "        image_path = line.replace(\"\\n\",\"\")\n",
        "        img = cv2.imread(image_path)\n",
        "        size = img.shape[:2]\n",
        "        text_path = image_path[:-4] + '.txt'\n",
        "\n",
        "        with open(text_path, 'r') as txt:\n",
        "            for line in txt:\n",
        "                box = line.split()\n",
        "                (startY, endY, startX, endX) = getROI(size, box)\n",
        "                image = cv2.resize(img[startY:endY, startX:endX], (CW,CH), interpolation = cv2.INTER_AREA)\n",
        "                train_imgs.append(image)\n",
        "                train_labels.append(int(box[0]))\n",
        "                image_cnt +=1\n",
        "\n",
        "train_images = np.array(train_imgs)\n",
        "train_labels = np.array(train_labels)\n",
        "\n",
        "train_images =  train_images.astype(\"float32\") /255.0\n",
        "train_labels = keras.utils.to_categorical(train_labels, num_classes)\n",
        "print('%d images added' % image_cnt)"
      ],
      "metadata": {
        "id": "7c6Zh5LNfFPS"
      },
      "execution_count": null,
      "outputs": []
    },
    {
      "cell_type": "markdown",
      "source": [
        "## test "
      ],
      "metadata": {
        "id": "GR5hC7Y1kyve"
      }
    },
    {
      "cell_type": "code",
      "source": [
        "image_cnt = 0\n",
        "with open(YOLO_FORMAT_PATH + 'test.txt' , 'r') as txt:\n",
        "    for line in txt:\n",
        "        \n",
        "        image_path = line.replace(\"\\n\",\"\")\n",
        "        img = cv2.imread(image_path)\n",
        "        size = img.shape[:2]\n",
        "        text_path = image_path[:-4] + '.txt'\n",
        "\n",
        "        with open(text_path, 'r') as txt:\n",
        "            for line in txt:\n",
        "                box = line.split()\n",
        "                (startY, endY, startX, endX) = getROI(size, box)\n",
        "                image = cv2.resize(img[startY:endY, startX:endX], (CW,CH), interpolation = cv2.INTER_AREA)\n",
        "                test_imgs.append(image)\n",
        "                test_labels.append(int(box[0]))\n",
        "                image_cnt +=1\n",
        "\n",
        "test_images = np.array(test_imgs)\n",
        "test_labels = np.array(test_labels)\n",
        "\n",
        "test_images =  test_images.astype(\"float32\") /255.0\n",
        "test_labels = keras.utils.to_categorical(test_labels, num_classes)\n",
        "print('%d images added' % image_cnt)"
      ],
      "metadata": {
        "id": "AmM4C6h4kPXk"
      },
      "execution_count": null,
      "outputs": []
    },
    {
      "cell_type": "code",
      "source": [
        "show_number = len(train_images)\n",
        "print(\"Tatal number of Images : %d\"  % show_number)\n",
        "\n",
        "if(show_number >25):\n",
        "    show_number = 25\n",
        "show_sample(train_images, \n",
        "            [ '%s' % classes[np.argmax(label)] for label in train_labels], show_number)"
      ],
      "metadata": {
        "id": "UXP8k4e9k29e"
      },
      "execution_count": null,
      "outputs": []
    },
    {
      "cell_type": "code",
      "source": [
        "show_number = len(test_images)\n",
        "print(\"Tatal number of Images : %d\"  % show_number)\n",
        "\n",
        "if(show_number >25):\n",
        "    show_number = 25\n",
        "show_sample(test_images, \n",
        "            [ '%s' % classes[np.argmax(label)] for label in test_labels], show_number)"
      ],
      "metadata": {
        "id": "bOZJzbIrmmVj"
      },
      "execution_count": null,
      "outputs": []
    },
    {
      "cell_type": "markdown",
      "source": [
        "## Train a TensorFlow model to classify digit images"
      ],
      "metadata": {
        "id": "Yl4JJbZ2nKn_"
      }
    },
    {
      "cell_type": "code",
      "source": [
        "inputShape = (CH, CW, CD)\n",
        "\n",
        "model = keras.Sequential([\n",
        "                          keras.layers.Flatten(input_shape = inputShape),\n",
        "\n",
        "                          keras.layers.Reshape(target_shape = inputShape),\n",
        "                          keras.layers.Conv2D(filters=32, kernel_size=(3,3), activation = tf.nn.relu),\n",
        "                          keras.layers.Conv2D(filters=64, kernel_size =(3,3), activation=tf.nn.relu),\n",
        "                          keras.layers.MaxPooling2D(pool_size =(2,2,)),\n",
        "                          keras.layers.Dropout(0.25),\n",
        "                          keras.layers.Flatten(input_shape=(28,28)),\n",
        "                          keras.layers.Dense(128, activation = tf.nn.relu),\n",
        "                          keras.layers.Dropout(0.5),\n",
        "\n",
        "                          keras.layers.Dense(num_classes, activation= tf.nn.softmax)\n",
        "])\n",
        "\n",
        "model.compile(optimizer = 'adam',\n",
        "              loss = tf.keras.losses.CategoricalCrossentropy(),\n",
        "              metrics=['accuracy'])"
      ],
      "metadata": {
        "id": "oiWzGJZAnPQm"
      },
      "execution_count": null,
      "outputs": []
    },
    {
      "cell_type": "code",
      "source": [
        "# Save the best model as digits_model.h5\n",
        "modelCheckpoint = tf.keras.callbacks.ModelCheckpoint(model_name, save_best_only = True)\n",
        "\n",
        "# Define a callback to monitor val_loss\n",
        "earlyStopping = tf.keras.callbacks.EarlyStopping(monitor = 'val_loss', \n",
        "                                                 patience =5)"
      ],
      "metadata": {
        "id": "XQZVYu_yom7u"
      },
      "execution_count": null,
      "outputs": []
    },
    {
      "cell_type": "code",
      "source": [
        "# Train the model usisng the early stopping callback\n",
        "history = model.fit(train_images, train_labels,\n",
        "                    validation_data= (test_images, test_labels),\n",
        "                    epochs = epochs, batch_size = batch_size,\n",
        "                    callbacks =[earlyStopping, modelCheckpoint])\n",
        "                    "
      ],
      "metadata": {
        "id": "Rl-fW-sTo7ij"
      },
      "execution_count": null,
      "outputs": []
    },
    {
      "cell_type": "code",
      "source": [
        "download(model_name)"
      ],
      "metadata": {
        "id": "qetEs7eCpbEr"
      },
      "execution_count": null,
      "outputs": []
    },
    {
      "cell_type": "markdown",
      "source": [
        "Evaluate model"
      ],
      "metadata": {
        "id": "dbxO6QSTphlv"
      }
    },
    {
      "cell_type": "code",
      "source": [
        "test_loss, test_acc = model.evaluate(test_images, test_labels)\n",
        "\n",
        "print(\"Test Accuracy:\", test_acc)\n",
        "\n",
        "fig, loss_ax = plt.subplots()\n",
        "gix, acc_ax = plt.subplots()\n",
        "\n",
        "loss_ax.plot(history.history['loss'], 'ro', label = 'train loss')\n",
        "loss_ax.plot(history.history['val_loss'], 'r:', label= 'val loss')\n",
        "loss_ax.set_xlabel('epoch')\n",
        "loss_ax.set_ylabel('loss')\n",
        "loss_ax.legend(loc='upper left')\n",
        "\n",
        "acc_ax.plot(history.history['accuracy'], 'bp', label = 'train accuracy')\n",
        "acc_ax.plot(history.history['val_accuracy'], 'b:', label= 'val accuracy')\n",
        "acc_ax.set_ylabel('accuracy')\n",
        "acc_ax.legend(loc='upper left')\n",
        "\n",
        "plt.show()"
      ],
      "metadata": {
        "id": "sX38CEs_pj4x"
      },
      "execution_count": null,
      "outputs": []
    },
    {
      "cell_type": "code",
      "source": [
        "predictions = model.predict(test_images)\n",
        "\n",
        "show_sample(test_images,\n",
        "            ['%s: %.2f' % (classes[np.argmax(result)], result[np.argmax(result)]*100) for result in predictions], \n",
        "            len(predictions))"
      ],
      "metadata": {
        "id": "ShxgJ8_Jr2aa"
      },
      "execution_count": null,
      "outputs": []
    },
    {
      "cell_type": "code",
      "source": [
        "seleted_digit = 1\n",
        "\n",
        "result = predictions[seleted_digit]\n",
        "result_number = np.argmax(result)\n",
        "print('%s : %.2f' % (classes[result_number], result[result_number] * 100))\n",
        "\n",
        "imShow(test_images[seleted_digit])"
      ],
      "metadata": {
        "id": "hGmIXMjqscLU"
      },
      "execution_count": null,
      "outputs": []
    }
  ]
}