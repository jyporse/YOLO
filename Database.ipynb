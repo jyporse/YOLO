{
  "nbformat": 4,
  "nbformat_minor": 0,
  "metadata": {
    "colab": {
      "name": "Database.ipynb",
      "private_outputs": true,
      "provenance": [],
      "collapsed_sections": [],
      "authorship_tag": "ABX9TyMS1E/IeSl8KYTIputkDIWt",
      "include_colab_link": true
    },
    "kernelspec": {
      "name": "python3",
      "display_name": "Python 3"
    },
    "language_info": {
      "name": "python"
    }
  },
  "cells": [
    {
      "cell_type": "markdown",
      "metadata": {
        "id": "view-in-github",
        "colab_type": "text"
      },
      "source": [
        "<a href=\"https://colab.research.google.com/github/jyporse/YOLO/blob/main/Database.ipynb\" target=\"_parent\"><img src=\"https://colab.research.google.com/assets/colab-badge.svg\" alt=\"Open In Colab\"/></a>"
      ]
    },
    {
      "cell_type": "markdown",
      "source": [
        "### Python sqlite3 라이브러리 Import"
      ],
      "metadata": {
        "id": "8GvhcFaKblJr"
      }
    },
    {
      "cell_type": "code",
      "source": [
        "import sqlite3"
      ],
      "metadata": {
        "id": "ZV_aANyKbqMQ"
      },
      "execution_count": null,
      "outputs": []
    },
    {
      "cell_type": "markdown",
      "source": [
        "#### sqlite 데이터베이스 연결"
      ],
      "metadata": {
        "id": "8aUBjNJWbrC2"
      }
    },
    {
      "cell_type": "code",
      "source": [
        "# sqlite 데이터베이스 연결\n",
        "dbpath = \"test.sqlite\"\n",
        "conn = sqlite3.connect(dbpath)"
      ],
      "metadata": {
        "id": "2vq0vvm6bxEQ"
      },
      "execution_count": null,
      "outputs": []
    },
    {
      "cell_type": "markdown",
      "source": [
        "#### 테이블 생성 및 데이터 넣기"
      ],
      "metadata": {
        "id": "fpPiwvs4bzO3"
      }
    },
    {
      "cell_type": "code",
      "source": [
        "# 테이블을 생성하고 데이터 넣기\n",
        "cur = conn.cursor()\n",
        "cur.executescript(\"\"\"\n",
        "/* items 테이블이 존재한다면 제거하기 */\n",
        "DROP TABLE IF EXISTS items;\n",
        "\n",
        "/* 테이블 생성하기 */\n",
        "CREATE TABLE items(\n",
        "    item_id INTEGER PRIMARY KEY,\n",
        "    name TEXT UNIQUE,\n",
        "    price INTEGER\n",
        ");\n",
        "\n",
        "/* 데이터 넣기 */\n",
        "INSERT INTO items (name, price) VALUES ('Apple', 800);\n",
        "INSERT INTO items (name, price) VALUES ('Orange', 780);\n",
        "INSERT INTO items (name, price) VALUES ('Banana', 430);\n",
        "\"\"\")\n"
      ],
      "metadata": {
        "id": "-ntXCXfZb3po"
      },
      "execution_count": null,
      "outputs": []
    },
    {
      "cell_type": "markdown",
      "source": [
        "#### 데이터베이스에 반영하고 데이터 추출하기"
      ],
      "metadata": {
        "id": "0peVo0VPb5SG"
      }
    },
    {
      "cell_type": "code",
      "source": [
        "# 데이터베이스에 반영하기\n",
        "conn.commit()\n",
        "\n",
        "# 데이터 추출\n",
        "cur = conn.cursor()\n",
        "cur.execute(\"SELECT item_id,name,price FROM items\")\n",
        "item_list = cur.fetchall()"
      ],
      "metadata": {
        "id": "j2QtT5wOb_c3"
      },
      "execution_count": null,
      "outputs": []
    },
    {
      "cell_type": "markdown",
      "source": [
        "#### 데이터 출력"
      ],
      "metadata": {
        "id": "l0GPOfpjbkGL"
      }
    },
    {
      "cell_type": "code",
      "source": [
        "for it in item_list:\n",
        "    print(it)"
      ],
      "metadata": {
        "id": "xwDQ7k7YcW7M"
      },
      "execution_count": null,
      "outputs": []
    },
    {
      "cell_type": "markdown",
      "source": [
        "### 여러 데이터를 한번에 넣기"
      ],
      "metadata": {
        "id": "iAzRLyqrcunX"
      }
    },
    {
      "cell_type": "code",
      "source": [
        "# 테이블을 생성하고 데이터 넣기\n",
        "cur = conn.cursor()\n",
        "\n",
        "\n",
        "data = [(\"Mango\", 7700), (\"Kiwi\", 4000), (\"Grape\", 8000), (\"Persimmon\", 7000)]\n",
        "cur.executemany(\n",
        "    \"REPLACE INTO items(name,price) VALUES(?,?)\",\n",
        "    data)\n",
        "\n",
        "conn.commit()\n",
        "\n",
        "cur = conn.cursor()\n",
        "price_range = (4000,7500)\n",
        "cur.execute(\n",
        "    \"SELECT * FROM items WHERE price>=? AND price<=?\",\n",
        "    price_range\n",
        ")\n",
        "fr_list = cur.fetchall()\n",
        "for fr in fr_list:\n",
        "    print(fr)"
      ],
      "metadata": {
        "id": "PCYzDvOHcwSJ"
      },
      "execution_count": null,
      "outputs": []
    },
    {
      "cell_type": "markdown",
      "source": [
        "### MySql 연동을 위한 모듈 설치하기"
      ],
      "metadata": {
        "id": "MNc4dL1MgV6M"
      }
    },
    {
      "cell_type": "code",
      "source": [
        "!sudo apt-get install python3-dev default-libmysqlclient-dev\n",
        "!pip install pymysql"
      ],
      "metadata": {
        "id": "Je6Lw8LRgZvs"
      },
      "execution_count": null,
      "outputs": []
    },
    {
      "cell_type": "code",
      "source": [
        "#Import Module\n",
        "import pandas as pd\n",
        "import pymysql"
      ],
      "metadata": {
        "id": "pcp4rTOhgqj7"
      },
      "execution_count": null,
      "outputs": []
    },
    {
      "cell_type": "markdown",
      "source": [
        "#### MySQL을 연결해서 데이터 불러오기"
      ],
      "metadata": {
        "id": "XfnW0ddqgw3h"
      }
    },
    {
      "cell_type": "code",
      "source": [
        "conn = pymysql.connect(\n",
        "    host = '127.0.0.1',\n",
        "    port = 3306,\n",
        "    user = 'root',\n",
        "    passwd = 'emforhs12',\n",
        "    db = 'mysql'\n",
        ")\n",
        "sql_state= 'select * from table_name;'\n",
        "df = pd.read_sql_query(sql_state, conn)"
      ],
      "metadata": {
        "id": "g5wLVh_ugwMn"
      },
      "execution_count": null,
      "outputs": []
    }
  ]
}