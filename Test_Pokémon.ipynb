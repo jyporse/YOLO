{
  "nbformat": 4,
  "nbformat_minor": 0,
  "metadata": {
    "colab": {
      "name": "Test_Pokémon",
      "private_outputs": true,
      "provenance": [],
      "collapsed_sections": [],
      "authorship_tag": "ABX9TyO+3sVRvOG5rGkKaqSIEr1j",
      "include_colab_link": true
    },
    "kernelspec": {
      "name": "python3",
      "display_name": "Python 3"
    },
    "language_info": {
      "name": "python"
    },
    "accelerator": "GPU"
  },
  "cells": [
    {
      "cell_type": "markdown",
      "metadata": {
        "id": "view-in-github",
        "colab_type": "text"
      },
      "source": [
        "<a href=\"https://colab.research.google.com/github/jyporse/YOLO/blob/main/Test_Pok%C3%A9mon.ipynb\" target=\"_parent\"><img src=\"https://colab.research.google.com/assets/colab-badge.svg\" alt=\"Open In Colab\"/></a>"
      ]
    },
    {
      "cell_type": "code",
      "source": [
        "!pip install cmake\n",
        "!pip install dlib"
      ],
      "metadata": {
        "id": "UFTje6QAIuMq"
      },
      "execution_count": null,
      "outputs": []
    },
    {
      "cell_type": "code",
      "execution_count": null,
      "metadata": {
        "id": "LektUutD-fV-"
      },
      "outputs": [],
      "source": [
        "import cv2\n",
        "import numpy as np\n",
        "import matplotlib.pyplot as plt\n",
        "import dlib\n",
        "import time"
      ]
    },
    {
      "cell_type": "code",
      "source": [
        "from google.colab import drive\n",
        "drive.mount(\"/content/drive\")"
      ],
      "metadata": {
        "id": "UND5HwaOWjkM"
      },
      "execution_count": null,
      "outputs": []
    },
    {
      "cell_type": "code",
      "source": [
        "!nvidia-smi"
      ],
      "metadata": {
        "id": "PkVraoQwh8Wl"
      },
      "execution_count": null,
      "outputs": []
    },
    {
      "cell_type": "code",
      "source": [
        "import cv2\n",
        "import numpy as np\n",
        "import time\n",
        "\n",
        "min_confidence = 0.5\n",
        "width = 800\n",
        "height = 0\n",
        "show_ratio = 1.0\n",
        "path = \"/content/drive/MyDrive/Kobot/Pokémon/\"\n",
        "file_name = \"/content/1.jpg\"\n",
        "Weights = path + \"weight/custom-train-yolo_1200.weights\"\n",
        "test_cfg = path +\"weight/custom-test-yolo.cfg\"\n",
        "train_cfg = \"/content/drive/MyDrive/Kobot/YOLO/darknet/cfg/yolov3.cfg\"\n",
        "#net = cv2.dnn.readNet(\"cfg\", \" weight\")\n",
        "net = cv2.dnn.readNetFromDarknet(test_cfg,Weights)\n",
        "\n",
        "print(Weights, test_cfg)\n",
        "classes = []\n",
        "#with open(\"$path/classes.nemes\" , \"r\") as f:\n",
        "with open(path + \"weight/classes.names\" , \"r\") as f:\n",
        "\tclasses = [line.strip() for line in f.readlines()]\n",
        "print(classes)\n",
        "color_lists = np.random.uniform(0, 255, size= (len(classes), 3))\n",
        "\n",
        "layer_names = net.getLayerNames()\n",
        "# print(layer_names)\n",
        "output_layers = [layer_names[i[0] -1] for i in net.getUnconnectedOutLayers()]\n",
        "# print(net.getUnconnectedOutLayers())\n",
        "print(output_layers)\n",
        "\n",
        "start_time = time.time()\n",
        "img = cv2.imread(file_name)\n",
        "\n",
        "h,w = img.shape[:2]\n",
        "height = int(h * width / w)\n",
        "print(height, width)\n",
        "\n",
        "blob = cv2.dnn.blobFromImage(img, 0.00392, (416,416), swapRB=True, crop=False\n",
        "\t\t\t\t\t\t\t )\n",
        "\n",
        "net.setInput(blob)\n",
        "outs = net.forward(output_layers)\n",
        "\n",
        "confidences = []\n",
        "names = []\n",
        "boxes = []\n",
        "colors = []\n",
        "\n",
        "for out in outs:\n",
        "\tfor detection in out:\n",
        "\t\tscores = detection[5:]\n",
        "\t\tclass_id = np.argmax(scores)\n",
        "\t\tconfidence = scores[class_id]\n",
        "\t\tif confidence > min_confidence:\n",
        "\t\t\tprint(detection)\n",
        "\t\t\t# Object detected\n",
        "\t\t\tcenter_x = int(detection[0] * width)\n",
        "\t\t\tcenter_y = int(detection[1] * height)\n",
        "\t\t\tw = int(detection[2] * width)\n",
        "\t\t\th = int(detection[3] * height)\n",
        "\n",
        "\t\t\t# Rectangle coordinates\n",
        "\t\t\tx = int(center_x - w /2)\n",
        "\t\t\ty = int(center_y - h / 2)\n",
        "\n",
        "\t\t\tboxes.append([x, y, w, h])\n",
        "\t\t\tconfidences.append(float(confidence))\n",
        "\t\t\tnames.append(classes[class_id])\n",
        "\t\t\tcolors.append(color_lists[class_id])\n",
        "\n",
        "indexes = cv2.dnn.NMSBoxes(boxes, confidences, min_confidence, 0.4)\n",
        "\n",
        "\n",
        "\n",
        "font = cv2.FONT_HERSHEY_PLAIN\n",
        "for i in range(len(boxes)):\n",
        "\tif i in indexes:\n",
        "\t\tx, y, w, h = boxes[i]\n",
        "\t\tlabel = str(names[i])\n",
        "\t\tcon = (confidences[i] * 100)\n",
        "\t\tcon = \"{:.1f}\".format(con)\n",
        "\t\tprint (type(con))\n",
        "\t\tcolor = colors[i]\n",
        "\t\t#print(i, label, color, x, y, w, h)\n",
        "\t\tcv2.rectangle(img, (x, y), (x+w, y+h), color, 2)\n",
        "\t\tcv2.putText(img, con + \"%\", (x, y +80), font, 3, color, 3)\n",
        "\t\tcv2.putText(img, label, (x, y + 30), font, 3, color, 3)\n",
        "  \t\t\n",
        "\n",
        "\n",
        "\t\t\n",
        "\n",
        "plt.imshow(cv2.cvtColor(img, cv2.COLOR_BGR2RGB))\n",
        "#cv2.imshow(\"Custom Yolo\", file_name, img)\n",
        "plt.show()\n",
        "end_time = time.time()\n",
        "process_time = end_time - start_time\n",
        "print(\"===A frame took {:.3f} sec\".format(process_time))\n"
      ],
      "metadata": {
        "id": "BHxTod-wDQkO"
      },
      "execution_count": null,
      "outputs": []
    }
  ]
}