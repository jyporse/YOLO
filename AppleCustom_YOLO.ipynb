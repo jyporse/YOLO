{
  "nbformat": 4,
  "nbformat_minor": 0,
  "metadata": {
    "colab": {
      "name": "AppleCustom_YOLO.ipynb",
      "private_outputs": true,
      "provenance": [],
      "authorship_tag": "ABX9TyMPjWCth/UbmIWgnMLFY92b",
      "include_colab_link": true
    },
    "kernelspec": {
      "name": "python3",
      "display_name": "Python 3"
    },
    "language_info": {
      "name": "python"
    }
  },
  "cells": [
    {
      "cell_type": "markdown",
      "metadata": {
        "id": "view-in-github",
        "colab_type": "text"
      },
      "source": [
        "<a href=\"https://colab.research.google.com/github/jyporse/YOLO/blob/main/AppleCustom_YOLO.ipynb\" target=\"_parent\"><img src=\"https://colab.research.google.com/assets/colab-badge.svg\" alt=\"Open In Colab\"/></a>"
      ]
    },
    {
      "cell_type": "code",
      "execution_count": null,
      "metadata": {
        "id": "-Ybg5XloYefg"
      },
      "outputs": [],
      "source": [
        "from google.colab import drive\n",
        "drive.mount('/content/Gdrive')"
      ]
    },
    {
      "cell_type": "code",
      "source": [
        "!ls -la \"/content/Gdrive/MyDrive/Kobot/YOLO/darknet\""
      ],
      "metadata": {
        "id": "NM_Tkx9DYpHM"
      },
      "execution_count": null,
      "outputs": []
    },
    {
      "cell_type": "code",
      "source": [
        "import os\n",
        "if not os.path.exists('usr/local/cuda/include/cudnn.h'):\n",
        "    !tar -xzvf Gdrive/MyDrive/Kobot/YOLO/darknet/cuDNN/cudnn-11.1-linux-x64-v8.0.5.39.tgz -C /usr/local/\n",
        "    !chmod a+r /usr/local/cuda/include/cudnn.h\n",
        "\n",
        "!cat /usr/local/cuda/include/cudnn.h"
      ],
      "metadata": {
        "id": "7lzsYiATZHEC"
      },
      "execution_count": null,
      "outputs": []
    },
    {
      "cell_type": "markdown",
      "source": [
        "### Load Darknet"
      ],
      "metadata": {
        "id": "L2OeiTVZZfVn"
      }
    },
    {
      "cell_type": "code",
      "source": [
        "import os\n",
        "if not os.path.exists('darknet'):\n",
        "    os.makedirs('darknet')\n",
        "%cd darknet\n",
        "%ls\n",
        "!ls -la '/content/Gdrive/MyDrive/Kobot/YOLO/darknet/bin/darknet'\n",
        "!cp -r /content/Gdrive/MyDrive/Kobot/YOLO/darknet/bin/darknet ./darknet\n",
        "!chmod +x ./darknet\n",
        "#YOLO data 가져오기\n",
        "!cp -r /content/Gdrive/MyDrive/Kobot/YOLO/darknet/weights .\n",
        "!cp -r /content/Gdrive/MyDrive/Kobot/YOLO/darknet/cfg .\n",
        "!cp -ar /content/Gdrive/MyDrive/Kobot/YOLO/darknet/data .\n",
        "%ls"
      ],
      "metadata": {
        "id": "zqxPWNoSZhLn"
      },
      "execution_count": null,
      "outputs": []
    },
    {
      "cell_type": "code",
      "source": [
        "#download files\n",
        "\n",
        "def imShow(path):\n",
        "    import cv2\n",
        "    import matplotlib.pyplot as plt\n",
        "    %matplotlib inline\n",
        "\n",
        "    img = cv2.imread(path)\n",
        "    height , width = img.shape[:2]\n",
        "    resized_img = cv2.resize(img, (3*width, 3*height),interpolation = cv2.INTER_CUBIC)\n",
        "\n",
        "    fig = plt.gcf()\n",
        "    fig.set_size_inches(18,10)\n",
        "    plt.axis(\"off\")\n",
        "    #plt.rcParams['figure.figsize'] = [10,5]\n",
        "    plt.imshow(cv2.cvtColor(resized_img, cv2.COLOR_BGR2RGB))\n",
        "    plt.show()\n",
        "\n",
        "def upload():\n",
        "    from google.colab import files\n",
        "    uploaded = files.upload()\n",
        "    for name, data in uploaded.items():\n",
        "        with open(name, \"wb\") as f:\n",
        "            f.write(data)\n",
        "            print(\"saved file\", name)\n",
        "def download(path):\n",
        "    from google.colab import files\n",
        "    files.download(path)"
      ],
      "metadata": {
        "id": "uJURZ1ItZy1Y"
      },
      "execution_count": null,
      "outputs": []
    }
  ]
}