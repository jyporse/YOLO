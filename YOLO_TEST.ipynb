{
  "nbformat": 4,
  "nbformat_minor": 0,
  "metadata": {
    "colab": {
      "name": "YOLO_TEST.ipynb",
      "private_outputs": true,
      "provenance": [],
      "collapsed_sections": [],
      "authorship_tag": "ABX9TyMhxGDl42TskJLhXdNsNPay",
      "include_colab_link": true
    },
    "kernelspec": {
      "name": "python3",
      "display_name": "Python 3"
    },
    "language_info": {
      "name": "python"
    },
    "accelerator": "GPU"
  },
  "cells": [
    {
      "cell_type": "markdown",
      "metadata": {
        "id": "view-in-github",
        "colab_type": "text"
      },
      "source": [
        "<a href=\"https://colab.research.google.com/github/jyporse/YOLO/blob/main/YOLO_TEST.ipynb\" target=\"_parent\"><img src=\"https://colab.research.google.com/assets/colab-badge.svg\" alt=\"Open In Colab\"/></a>"
      ]
    },
    {
      "cell_type": "code",
      "execution_count": null,
      "metadata": {
        "id": "k28mocQPyoTx"
      },
      "outputs": [],
      "source": [
        "from google.colab import drive\n",
        "drive.mount('/content/Gdrive')"
      ]
    },
    {
      "cell_type": "code",
      "source": [
        "!/usr/local/cuda/bin/nvcc --version\n",
        "## 현재 CUDA버전 확인 현재 11.1\n",
        "''' NVIDIA 홈페이지에서 확인\n",
        "https://developer.nvidia.com/rdp/cudnn-download\n",
        "회원가입 후 다운로드\n",
        "cuDNN : CUDA의 소프트웨어\n",
        "deep neural networks를 사용하기 위해 \n",
        "자신의 CUDA 버전과 맞는 버전 다운\n",
        "'''\n",
        "!arch \n",
        "# 리눅스 버전확인\n",
        "'''\n",
        "다운받은 파일을 구글 Drive의 darknet이란 폴더를 만들고 그 안에 cuDNN 폴더를 만들어서 옮겨놓는다.\n",
        "연결된 경로복사 후 압축해제\n",
        "'''\n",
        "!tar -xzvf Gdrive/MyDrive/Kobot/YOLO/darknet/cuDNN/cudnn-11.1-linux-x64-v8.0.5.39.tgz -C /usr/local/\n",
        "## 압축해제\n",
        "!chmod a+r /usr/local/cuda/include/cudnn.h\n",
        "!cat /usr/local/cuda/include/cudnn.h\n",
        "# 설치확인"
      ],
      "metadata": {
        "id": "KJN8WzwVy5m3"
      },
      "execution_count": null,
      "outputs": []
    },
    {
      "cell_type": "markdown",
      "source": [
        "## Load Draknet"
      ],
      "metadata": {
        "id": "bMUBNm550lQd"
      }
    },
    {
      "cell_type": "code",
      "source": [
        "import os\n",
        "if not os.path.exists('darknet'):\n",
        "    os.makedirs('darknet')\n",
        "%cd darknet\n",
        "%ls"
      ],
      "metadata": {
        "id": "aXBA_hDVzI0r"
      },
      "execution_count": null,
      "outputs": []
    },
    {
      "cell_type": "code",
      "source": [
        "!ls -la '/content/Gdrive/MyDrive/Kobot/YOLO/darknet/bin/darknet'\n",
        "!cp -r /content/Gdrive/MyDrive/Kobot/YOLO/darknet/bin/darknet ./darknet\n",
        "!chmod +x ./darknet"
      ],
      "metadata": {
        "id": "hZz310Lp1FFp"
      },
      "execution_count": null,
      "outputs": []
    },
    {
      "cell_type": "code",
      "source": [
        "#YOLO data 가져오기\n",
        "!cp -r /content/Gdrive/MyDrive/Kobot/YOLO/darknet/weights .\n",
        "!cp -r /content/Gdrive/MyDrive/Kobot/YOLO/darknet/cfg .\n",
        "!cp -ar /content/Gdrive/MyDrive/Kobot/YOLO/darknet/data .\n",
        "%ls"
      ],
      "metadata": {
        "id": "xL-ilcIh3GJv"
      },
      "execution_count": null,
      "outputs": []
    },
    {
      "cell_type": "code",
      "source": [
        "#download files\n",
        "\n",
        "def imShow(path):\n",
        "    import cv2\n",
        "    import matplotlib.pyplot as plt\n",
        "    %matplotlib inline\n",
        "\n",
        "    img = cv2.imread(path)\n",
        "    height , width = img.shape[:2]\n",
        "    resized_img = cv2.resize(img, (3*width, 3*height),interpolation = cv2.INTER_CUBIC)\n",
        "\n",
        "    fig = plt.gcf()\n",
        "    fig.set_size_inches(18,10)\n",
        "    plt.axis(\"off\")\n",
        "    #plt.rcParams['figure.figsize'] = [10,5]\n",
        "    plt.imshow(cv2.cvtColor(resized_img, cv2.COLOR_BGR2RGB))\n",
        "    plt.show()\n",
        "\n",
        "def upload():\n",
        "    from google.colab import files\n",
        "    uploaded = files.upload()\n",
        "    for name, data in uploaded.items():\n",
        "        with open(name, \"wb\") as f:\n",
        "            f.write(data)\n",
        "            print(\"saved file\", name)\n",
        "def download(path):\n",
        "    from google.colab import files\n",
        "    files.download(path)"
      ],
      "metadata": {
        "id": "YR2GA8UZmmYD"
      },
      "execution_count": null,
      "outputs": []
    },
    {
      "cell_type": "code",
      "source": [
        "%ls"
      ],
      "metadata": {
        "id": "VjZBt1Lqr0NK"
      },
      "execution_count": null,
      "outputs": []
    },
    {
      "cell_type": "code",
      "source": [
        "!./darknet detect cfg/yolov3.cfg weights/yolov3.weights data/fruit10.jpg\n",
        "imShow('predictions.jpg')"
      ],
      "metadata": {
        "id": "3e7hC2CJnnfq"
      },
      "execution_count": null,
      "outputs": []
    },
    {
      "cell_type": "markdown",
      "source": [
        "### Custom Yolo"
      ],
      "metadata": {
        "id": "y9e2exWpz1j3"
      }
    },
    {
      "cell_type": "code",
      "source": [
        "!ls"
      ],
      "metadata": {
        "id": "s12wv6cOOJQ7"
      },
      "execution_count": null,
      "outputs": []
    },
    {
      "cell_type": "code",
      "source": [
        "!cp -r '/content/Gdrive/MyDrive/Kobot/YOLO/darknet/custom' .\n",
        "# Custom data가 있는 폴더 복사\n",
        "!cp -r '/content/Gdrive/MyDrive/Kobot/YOLO/darknet/backup' ."
      ],
      "metadata": {
        "id": "FSsZRuBB0DSO"
      },
      "execution_count": null,
      "outputs": []
    },
    {
      "cell_type": "code",
      "source": [
        "##!!!!!!!!!!!!!!!!!!!!!! 학습하는 코드 시간이 오래걸림!!!!!!!!!!!!!!!!!!!!!!\n",
        "!./darknet detector train custom/custom_data.data custom/custom-train-yolo.cfg weights/darknet53.conv.74 -dont-show\n",
        "## cumstom_data.data 파일의 경로확인\n",
        "## train, test 경로 확인필요"
      ],
      "metadata": {
        "id": "rcGOtk_n0kEP"
      },
      "execution_count": null,
      "outputs": []
    },
    {
      "cell_type": "code",
      "source": [
        "!./darknet detector map custom/custom_data.data custom/custom-train-yolo.cfg backup/custom-train-yolo_final.weights\n",
        "## map를 측정해주는 코드 최적의 final을 찾아야 함"
      ],
      "metadata": {
        "id": "Uif1zRO214-B"
      },
      "execution_count": null,
      "outputs": []
    },
    {
      "cell_type": "code",
      "source": [
        "if os.path.exists('./backup'):\n",
        "    !cp -r ./backup \"/content/Gdrive/MyDrive/Kobot/YOLO/darknet\"\n",
        "\n",
        "if not os.path.exists('./backup'):\n",
        "    os.makedirs('./backup')\n",
        "    !cp -r \"/content/Gdrive/MyDrive/Kobot/YOLO/darknet/custom-train-yolo_final.weights\" ./backup"
      ],
      "metadata": {
        "id": "s9aP86YY6s6_"
      },
      "execution_count": null,
      "outputs": []
    },
    {
      "cell_type": "code",
      "source": [
        "!./darknet detector test custom/custom_data.data custom/custom-train-yolo.cfg backup/custom-train-yolo_final.weights data/fruit10.jpg -dont-show"
      ],
      "metadata": {
        "id": "PqjIWxwX7fiH"
      },
      "execution_count": null,
      "outputs": []
    },
    {
      "cell_type": "code",
      "source": [
        "imShow(\"predictions.jpg\")"
      ],
      "metadata": {
        "id": "qTwrMhmlMBPY"
      },
      "execution_count": null,
      "outputs": []
    },
    {
      "cell_type": "markdown",
      "source": [
        "### Python을 이용하여 만들기 "
      ],
      "metadata": {
        "id": "ugKzJbpbNyuU"
      }
    },
    {
      "cell_type": "code",
      "source": [
        "import cv2\n",
        "import numpy as np\n",
        "import time\n",
        "import matplotlib.pyplot as plt\n",
        "%matplotlib inline"
      ],
      "metadata": {
        "id": "4lJqim-CPdOE"
      },
      "execution_count": null,
      "outputs": []
    },
    {
      "cell_type": "code",
      "source": [
        "min_confidence = 0.5 \n",
        "width = 800\n",
        "height = 0\n",
        "show_ratio = 1.0\n",
        "file_name = '/content/Gdrive/MyDrive/Kobot/YOLO/darknet/custom/fruit04.jpg'\n",
        "\n",
        "net = cv2.dnn.readNet(\"/content/Gdrive/MyDrive/Kobot/YOLO/darknet/backup/custom-train-yolo_final.weights\", \"/content/Gdrive/MyDrive/Kobot/YOLO/darknet/custom/custom-train-yolo.cfg\")\n",
        "classes = []\n",
        "with open(\"/content/Gdrive/MyDrive/Kobot/YOLO/darknet/custom/classes.names\" ,\"r\") as f:\n",
        "    classes = [line.strip() for line in f.readlines()]\n",
        "print(classes)\n",
        "color_lists = np.random.uniform(0,255, size=(len(classes), 3))\n",
        "\n",
        "layer_names = net.getLayerNames()\n",
        "#print(layer_names)\n",
        "output_layers = [layer_names[i[0]-1] for i in net.getUnconnectedOutLayers()]\n",
        "#print(net.getUnconnectedOutLayers)\n",
        "print(output_layers)\n",
        "\n",
        "start_time = time.time()\n",
        "img = cv2.imread(file_name)\n",
        "h,w = img.shape[:2]\n",
        "height = int (h* width/ w)\n",
        "print(height, width) \n",
        "\n",
        "blob = cv2.dnn.blobFromImage(img, 0.00392,(416,416), swapRB= True, crop =False)\n",
        "\n",
        "net.setInput(blob)\n",
        "outs = net.forward(output_layers)\n",
        "confidences = []\n",
        "names = []\n",
        "boxes = []\n",
        "colors = []\n",
        "\n",
        "for out in outs:\n",
        "    for detection in out:\n",
        "        scores = detection[5:]\n",
        "        class_id = np.argmax(scores)\n",
        "        confidence = scores[class_id]\n",
        "        if confidence > min_confidence:\n",
        "            print(detection)\n",
        "            #Object detected\n",
        "            center_x = int(detection[0] * width)\n",
        "            center_y = int(detection[1] * height)\n",
        "            w = int(detection[2] * width)\n",
        "            y = int(detection[3] * height)\n",
        "            # Rectangle_coordinates\n",
        "            x = int(center_x -w/2)\n",
        "            y = int(center_y - h/2)\n",
        "\n",
        "            boxes.append([x,y,w,h])\n",
        "            confidences.appendA(float(confidence))\n",
        "            names.append(classes[class_id])\n",
        "            colors.append(color_lists[class_id])\n",
        "\n",
        "#중복 제거\n",
        "indexes = cv2.dnn.NMSBoxes(boxes, confidences, min_confidence, 0.4)\n",
        "font = cv2.FONT_ITALIC\n",
        "for i in range(len(boxes)):\n",
        "    if i in indexes:\n",
        "        x,y,w,h = boxes[i]\n",
        "        label = '{} {:,.2%}'.format(names[i], confidences[i])\n",
        "        color = colors[i]\n",
        "        print(i, label,color, x,y,w,h)\n",
        "        cv2.rectangle(img, (x,y), (x+w, y+h), color, 2)\n",
        "        cv2.putText(img, label, (x,y-10), font, 1, color,2)\n"
      ],
      "metadata": {
        "id": "IFas3mC9PhZn"
      },
      "execution_count": null,
      "outputs": []
    }
  ]
}